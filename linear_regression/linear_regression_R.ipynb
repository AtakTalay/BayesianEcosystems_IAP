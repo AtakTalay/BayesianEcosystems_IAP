{
 "cells": [
  {
   "cell_type": "markdown",
   "metadata": {},
   "source": [
    "## Introduction to Stan via linear regression\n",
    "\n",
    "In this notebook we will use a simple example of single-variable linear regression to demonstrate the basic structure of a Stan program, how it is called, and how to plot the results Stan yields.\n",
    "\n",
    "First we load Stan and tell Stan to look for and use multiple processors, if available."
   ]
  },
  {
   "cell_type": "code",
   "execution_count": 2,
   "metadata": {},
   "outputs": [],
   "source": [
    "library(rstan)\n",
    "options(mc.cores = parallel::detectCores())"
   ]
  },
  {
   "cell_type": "markdown",
   "metadata": {},
   "source": [
    "The code below generates a synthetic dataset of length 100, with slope of 1.5, instercept of 2, and a noise error standard deviation of 1.25.\n",
    "$x$ is the independent variable and $y$ is the dependent variable."
   ]
  },
  {
   "cell_type": "code",
   "execution_count": 3,
   "metadata": {},
   "outputs": [],
   "source": [
    "N     <- 100\n",
    "beta1 <- 1.5\n",
    "beta0 <- 2\n",
    "sigma <- 1.25\n",
    "\n",
    "x <- rnorm(N)\n",
    "y <- beta0 + beta1*x + rnorm(N,mean=0,sd=sigma)"
   ]
  },
  {
   "cell_type": "markdown",
   "metadata": {},
   "source": [
    "We plot the data"
   ]
  },
  {
   "cell_type": "code",
   "execution_count": 4,
   "metadata": {},
   "outputs": [
    {
     "data": {
      "image/png": "[encoded data removed]",
      "text/plain": [
       "plot without title"
      ]
     },
     "metadata": {},
     "output_type": "display_data"
    }
   ],
   "source": [
    "options(repr.plot.width=5, repr.plot.height=5)\n",
    "plot(x,y)"
   ]
  },
  {
   "cell_type": "markdown",
   "metadata": {},
   "source": [
    "The code below is our first Stan program. \n",
    "There are several ways to pass Stan code to the Stan program.\n",
    "Here we are using character strings to easily integrate with a standalone notebook.\n",
    "\n",
    "Stan programs are structured as templated blocks. \n",
    "\n",
    "#### `data` block\n",
    "We pass the data and all inputs in the `data` block. \n",
    "In this case Stan needs the vectors $x$ and $y$ and the length of those vectors $N$.\n",
    "\n",
    "#### `parameter` block\n",
    "We tell Stan which unknown parameters we seek to estimate via the `parameters` block.\n",
    "We will estimate the intercept `beta0`, the slope `beta1` and the error standard devation `sigma`.\n",
    "We give `sigma` a lower bound of a very small positive number to tell Stan not to try fitting with a standard deviation less than or equal to zero because it doesn't make mathemtical sense and Stan will get angry.\n",
    "\n",
    "#### `model` block\n",
    "The `model` block contains two components (despite it only being one block): the prior and likelihood.\n",
    "This is where we tell Stan about the probability distributions being used in the problem.\n",
    "You can tell the prior and likelihood apart in that the prior will not use the data, while the likelihood will. \n",
    "The likelihood will describe the distribution of the data *conditional on the parameters*.\n",
    "Here we assign normal distributions with mean zero and standard deviation 100 to `beta0` and `beta1`.\n",
    "We assign a normal distribution to the data with mean `beta0 + beta1*x` and standard deviation `sigma`."
   ]
  },
  {
   "cell_type": "code",
   "execution_count": 5,
   "metadata": {},
   "outputs": [],
   "source": [
    "stancode <- \"\n",
    "data {\n",
    "    int       N;\n",
    "    vector[N] x;\n",
    "    vector[N] y;\n",
    "}\n",
    "parameters {\n",
    "    real              beta0;\n",
    "    real              beta1;\n",
    "    real<lower=1E-15> sigma;\n",
    "}\n",
    "model{\n",
    "    // Priors\n",
    "    beta0 ~ normal(0,100);\n",
    "    beta1 ~ normal(0,100);\n",
    "    \n",
    "    // Likelihood\n",
    "    y ~ normal(beta0 + beta1*x, sigma);\n",
    "}\""
   ]
  },
  {
   "cell_type": "markdown",
   "metadata": {},
   "source": [
    "We compile the Stan code via RStan below."
   ]
  },
  {
   "cell_type": "code",
   "execution_count": 6,
   "metadata": {},
   "outputs": [],
   "source": [
    "mod <- stan_model(model_code=stancode)"
   ]
  },
  {
   "cell_type": "markdown",
   "metadata": {},
   "source": [
    "We organize the data as an R list to pass to Stan"
   ]
  },
  {
   "cell_type": "code",
   "execution_count": 7,
   "metadata": {},
   "outputs": [],
   "source": [
    "data <- list(N=N,x=x,y=y)"
   ]
  },
  {
   "cell_type": "markdown",
   "metadata": {},
   "source": [
    "We use the `sampling` command in RStan to perform the MCMC. \n",
    "The first argument is the compiled model object, second the data, then we tell how many chains to use and iterations to take.\n",
    "The final argument tells Stan to open a progress bar in a new window to monitor the MCMC progress. \n",
    "I don't know if this argument exists for PyStan and Stan.jl."
   ]
  },
  {
   "cell_type": "code",
   "execution_count": 8,
   "metadata": {},
   "outputs": [],
   "source": [
    "mcmc <- sampling(mod, data=data, chains=4, iter=2000, open_progress=TRUE)"
   ]
  },
  {
   "cell_type": "markdown",
   "metadata": {},
   "source": [
    "We look at the summary table for the mcmc results."
   ]
  },
  {
   "cell_type": "code",
   "execution_count": 9,
   "metadata": {},
   "outputs": [
    {
     "data": {
      "text/plain": [
       "Inference for Stan model: 91424571a1d7b0c5c128fe7ad64dceff.\n",
       "4 chains, each with iter=2000; warmup=1000; thin=1; \n",
       "post-warmup draws per chain=1000, total post-warmup draws=4000.\n",
       "\n",
       "        mean se_mean   sd   2.5%    25%    50%    75%  97.5% n_eff Rhat\n",
       "beta0   2.19    0.00 0.12   1.97   2.12   2.19   2.27   2.43  2714    1\n",
       "beta1   1.08    0.00 0.11   0.86   1.01   1.09   1.16   1.29  3702    1\n",
       "sigma   1.13    0.00 0.08   0.98   1.08   1.13   1.19   1.31  3273    1\n",
       "lp__  -61.70    0.03 1.28 -65.00 -62.23 -61.35 -60.78 -60.28  1869    1\n",
       "\n",
       "Samples were drawn using NUTS(diag_e) at Sat Jan 04 09:34:11 2020.\n",
       "For each parameter, n_eff is a crude measure of effective sample size,\n",
       "and Rhat is the potential scale reduction factor on split chains (at \n",
       "convergence, Rhat=1)."
      ]
     },
     "metadata": {},
     "output_type": "display_data"
    }
   ],
   "source": [
    "mcmc"
   ]
  },
  {
   "cell_type": "markdown",
   "metadata": {},
   "source": [
    "(See slides for a description of `n_eff` and `Rhat` diagnostics)\n",
    "\n",
    "We extract the mcmc samples below."
   ]
  },
  {
   "cell_type": "code",
   "execution_count": 10,
   "metadata": {},
   "outputs": [],
   "source": [
    "post <- extract(mcmc)"
   ]
  },
  {
   "cell_type": "markdown",
   "metadata": {},
   "source": [
    "Now `post` is a list of variables, each containing the full set of mcmc samples.\n",
    "Each variable is given as a matrix or vector, depending on the dimension of the variable.\n",
    "If multivariate, the matrix columns will give each individual element."
   ]
  },
  {
   "cell_type": "code",
   "execution_count": 11,
   "metadata": {
    "scrolled": true
   },
   "outputs": [
    {
     "data": {
      "text/html": [
       "<ol class=list-inline>\n",
       "\t<li>'beta0'</li>\n",
       "\t<li>'beta1'</li>\n",
       "\t<li>'sigma'</li>\n",
       "\t<li>'lp__'</li>\n",
       "</ol>\n"
      ],
      "text/latex": [
       "\\begin{enumerate*}\n",
       "\\item 'beta0'\n",
       "\\item 'beta1'\n",
       "\\item 'sigma'\n",
       "\\item 'lp\\_\\_'\n",
       "\\end{enumerate*}\n"
      ],
      "text/markdown": [
       "1. 'beta0'\n",
       "2. 'beta1'\n",
       "3. 'sigma'\n",
       "4. 'lp__'\n",
       "\n",
       "\n"
      ],
      "text/plain": [
       "[1] \"beta0\" \"beta1\" \"sigma\" \"lp__\" "
      ]
     },
     "metadata": {},
     "output_type": "display_data"
    }
   ],
   "source": [
    "names(post)"
   ]
  },
  {
   "cell_type": "markdown",
   "metadata": {},
   "source": [
    "The order of the mcmc samples represents the order in which they were sampled. \n",
    "This means you can plot the mcmc samples as a sequence to see the trajectory of the sampler.\n",
    "\n",
    "You can compare the appearance of this mcmc trajectory to that of the random walk MH algorithm. \n",
    "In this case the samples are uncorrelated so each sample contributes much more information that the strongly correlated sample characteristic of RWMH."
   ]
  },
  {
   "cell_type": "code",
   "execution_count": 12,
   "metadata": {},
   "outputs": [
    {
     "data": {
      "image/png": "[encoded data removed]",
      "text/plain": [
       "plot without title"
      ]
     },
     "metadata": {},
     "output_type": "display_data"
    }
   ],
   "source": [
    "options(repr.plot.width=6, repr.plot.height=5)\n",
    "par(mfrow=c(3,1),mar=c(4,4,1,1))\n",
    "plot(post$beta0,ylab='beta0')\n",
    "plot(post$beta1,ylab='beta1')\n",
    "plot(post$sigma,ylab='sigma')"
   ]
  },
  {
   "cell_type": "markdown",
   "metadata": {},
   "source": [
    "Below we ignore the sequence and plot the distribution as a histogram.\n",
    "These plots represent the marginal distribution of each parameter after integrating (via mcmc) over the distribution of the other variables. "
   ]
  },
  {
   "cell_type": "code",
   "execution_count": 13,
   "metadata": {
    "scrolled": true
   },
   "outputs": [
    {
     "data": {
      "image/png": "[encoded data removed]",
      "text/plain": [
       "Plot with title \"sigma\""
      ]
     },
     "metadata": {},
     "output_type": "display_data"
    }
   ],
   "source": [
    "options(repr.plot.width=6, repr.plot.height=2.5)\n",
    "par(mfrow=c(1,3))\n",
    "hist(post$beta0,main='beta0',xlab='')\n",
    "    abline(v=beta0,lwd=2)\n",
    "hist(post$beta1,main='beta1',xlab='')\n",
    "    abline(v=beta1,lwd=2)\n",
    "hist(post$sigma,main='sigma',xlab='')\n",
    "    abline(v=sigma,lwd=2)"
   ]
  },
  {
   "cell_type": "markdown",
   "metadata": {},
   "source": [
    "Below we randomly sample the mcmc samples to plot some lines.\n",
    "Since the order of the samples represents the mcmc steps, we want to pair the same sample numbers in order to get a proper sample from the joint posterior."
   ]
  },
  {
   "cell_type": "code",
   "execution_count": 15,
   "metadata": {},
   "outputs": [
    {
     "data": {
      "image/png": "[encoded data removed]",
      "text/plain": [
       "plot without title"
      ]
     },
     "metadata": {},
     "output_type": "display_data"
    }
   ],
   "source": [
    "options(repr.plot.width=4, repr.plot.height=4)\n",
    "plot(x,y)\n",
    "abline(mean(post$beta0), mean(post$beta1),lwd=2)\n",
    "for(i in sample(1:length(post$beta0),20)){\n",
    "    abline(post$beta0[i],post$beta1[i],lty=2,col=adjustcolor('black',alpha.f=0.3))\n",
    "}"
   ]
  },
  {
   "cell_type": "markdown",
   "metadata": {},
   "source": [
    "Previously we gave very wide normal distributions which is effectively *un*informative in the sense that the solution is indistinguishable had we given the uniform priors.\n",
    "\n",
    "EXERCISE IDEA: try imposing a uniform prior in the above and compare the fits.\n",
    "\n",
    "Below we demonstrate the effect of *informative* prior distributions. \n",
    "We give the prior distribution on the slope a normal distribution with mean 2.5 and standard deviation of 0.1.\n",
    "\n",
    "For example, this prior may have come from analysis of previous data. \n",
    "The Bayesian solution has a nice property that we would get the same answer when we use a previous posterior as a prior, vs. if we pooled all the data and analyzed them together."
   ]
  },
  {
   "cell_type": "code",
   "execution_count": 85,
   "metadata": {},
   "outputs": [],
   "source": [
    "stancode_prior <- \"\n",
    "data {\n",
    "    int       N;\n",
    "    vector[N] x;\n",
    "    vector[N] y;\n",
    "}\n",
    "parameters {\n",
    "    real              beta0;\n",
    "    real              beta1;\n",
    "    real<lower=1E-15> sigma;\n",
    "}\n",
    "model{\n",
    "    // Priors\n",
    "    beta0 ~ normal(0,100);\n",
    "    beta1 ~ normal(2.5,0.1);\n",
    "    \n",
    "    // Likelihood\n",
    "    y ~ normal(beta0 + beta1*x, sigma);\n",
    "}\""
   ]
  },
  {
   "cell_type": "markdown",
   "metadata": {},
   "source": [
    "We plot the prior"
   ]
  },
  {
   "cell_type": "code",
   "execution_count": 86,
   "metadata": {},
   "outputs": [
    {
     "data": {
      "image/png": "[encoded data removed]",
      "text/plain": [
       "plot without title"
      ]
     },
     "metadata": {},
     "output_type": "display_data"
    }
   ],
   "source": [
    "xin <- seq(0,3,0.01)\n",
    "plot(xin,dnorm(xin,mean=2.5,sd=0.1),type='l',xlab='beta1',ylab='Density')"
   ]
  },
  {
   "cell_type": "markdown",
   "metadata": {},
   "source": [
    "Compile the new Stan program."
   ]
  },
  {
   "cell_type": "code",
   "execution_count": 87,
   "metadata": {},
   "outputs": [],
   "source": [
    "mod_prior <- stan_model(model_code=stancode_prior)"
   ]
  },
  {
   "cell_type": "markdown",
   "metadata": {},
   "source": [
    "Sample from the posterior"
   ]
  },
  {
   "cell_type": "code",
   "execution_count": 91,
   "metadata": {},
   "outputs": [],
   "source": [
    "mcmc_prior <- sampling(mod_prior, data=data, chains=4, iter=2000, open_progress=TRUE)"
   ]
  },
  {
   "cell_type": "code",
   "execution_count": 16,
   "metadata": {},
   "outputs": [
    {
     "ename": "ERROR",
     "evalue": "Error in eval(expr, envir, enclos): object 'mcmc_prior' not found\n",
     "output_type": "error",
     "traceback": [
      "Error in eval(expr, envir, enclos): object 'mcmc_prior' not found\nTraceback:\n"
     ]
    }
   ],
   "source": [
    "mcmc_prior"
   ]
  },
  {
   "cell_type": "code",
   "execution_count": 93,
   "metadata": {},
   "outputs": [],
   "source": [
    "post_prior <- extract(mcmc_prior)"
   ]
  },
  {
   "cell_type": "markdown",
   "metadata": {},
   "source": [
    "Plot the posterior relative to the prior.\n",
    "Note the increased error due to the prior constraints."
   ]
  },
  {
   "cell_type": "code",
   "execution_count": 99,
   "metadata": {
    "scrolled": true
   },
   "outputs": [
    {
     "data": {
      "image/png": "[encoded data removed]",
      "text/plain": [
       "Plot with title \"sigma\""
      ]
     },
     "metadata": {},
     "output_type": "display_data"
    }
   ],
   "source": [
    "options(repr.plot.width=6, repr.plot.height=2.5)\n",
    "par(mfrow=c(1,3))\n",
    "hist(post_prior$beta0,main='beta0',xlab='',freq=FALSE)\n",
    "    abline(v=beta0,lwd=2)\n",
    "hist(post_prior$beta1,main='beta1',xlab='',xlim=c(0.5,3),freq=FALSE)\n",
    "    abline(v=beta1,lwd=2)\n",
    "    lines(xin,dnorm(xin,mean=2.5,sd=0.1))\n",
    "hist(post_prior$sigma,main='sigma',xlab='',freq=FALSE)\n",
    "    abline(v=sigma,lwd=2)"
   ]
  }
 ],
 "metadata": {
  "kernelspec": {
   "display_name": "R",
   "language": "R",
   "name": "ir"
  },
  "language_info": {
   "codemirror_mode": "r",
   "file_extension": ".r",
   "mimetype": "text/x-r-source",
   "name": "R",
   "pygments_lexer": "r",
   "version": "3.6.1"
  }
 },
 "nbformat": 4,
 "nbformat_minor": 2
}
